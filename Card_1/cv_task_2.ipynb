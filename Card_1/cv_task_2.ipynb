{
 "cells": [
  {
   "cell_type": "code",
   "execution_count": 29,
   "metadata": {},
   "outputs": [
    {
     "name": "stdout",
     "output_type": "stream",
     "text": [
      "Analysis saved to D:/Vortex/ROV/Phase 2/computer vision/Tasks2025/task 2/results/coral1png.png_analysis.png\n",
      "Analysis saved to D:/Vortex/ROV/Phase 2/computer vision/Tasks2025/task 2/results/coral2png.png_analysis.png\n",
      "Analysis saved to D:/Vortex/ROV/Phase 2/computer vision/Tasks2025/task 2/results/coral3png.png_analysis.png\n",
      "Analysis saved to D:/Vortex/ROV/Phase 2/computer vision/Tasks2025/task 2/results/coral4png.png_analysis.png\n",
      "Analysis saved to D:/Vortex/ROV/Phase 2/computer vision/Tasks2025/task 2/results/coral5png.png_analysis.png\n",
      "Analysis saved to D:/Vortex/ROV/Phase 2/computer vision/Tasks2025/task 2/results/coral6png.png_analysis.png\n"
     ]
    }
   ],
   "source": [
    "import cv2\n",
    "import numpy as np\n",
    "import os\n",
    "\n",
    "# List of coral images without extensions\n",
    "coral_images_names = ['coral1png', 'coral2png', 'coral3png', 'coral4png', 'coral5png', 'coral6png']\n",
    "coral_images_paths = [f\"D:/Vortex/ROV/Phase 2/computer vision/Tasks2025/task 2/{name}.png\" for name in coral_images_names]\n",
    "\n",
    "reference_image_path = 'D:/Vortex/ROV/Phase 2/computer vision/Tasks2025/task 2/OneYearImage.jpg'\n",
    "pink_mask_path = 'D:/Vortex/ROV/Phase 2/computer vision/Tasks2025/task 2/PINK_MASK.png'\n",
    "white_mask_path = 'D:/Vortex/ROV/Phase 2/computer vision/Tasks2025/task 2/WHITE_MASK.png'\n",
    "\n",
    "# Load reference images and masks\n",
    "reference_image = cv2.imread(reference_image_path)\n",
    "pink_mask = cv2.imread(pink_mask_path, cv2.IMREAD_GRAYSCALE)\n",
    "white_mask = cv2.imread(white_mask_path, cv2.IMREAD_GRAYSCALE)\n",
    "\n",
    "# Verify if reference images and masks are loaded successfully\n",
    "if reference_image is None or pink_mask is None or white_mask is None:\n",
    "    raise ValueError(\"Error loading reference images or masks. Check file paths.\")\n",
    "\n",
    "# Resize the reference image to match the mask dimensions\n",
    "reference_image_resized = cv2.resize(reference_image, (pink_mask.shape[1], pink_mask.shape[0]))\n",
    "\n",
    "# Loop through each coral image to analyze changes\n",
    "for coral_path in coral_images_paths:\n",
    "    # Load current coral image\n",
    "    current_image = cv2.imread(coral_path)\n",
    "\n",
    "    if current_image is None:\n",
    "        print(f\"Error loading image {coral_path}. Skipping...\")\n",
    "        continue\n",
    "\n",
    "    # Resize current image to match mask size\n",
    "    current_image_resized = cv2.resize(current_image, (pink_mask.shape[1], pink_mask.shape[0]))\n",
    "\n",
    "    # Detect growth in pink and white masked areas\n",
    "    growth_pink = cv2.bitwise_and(current_image_resized, current_image_resized, mask=pink_mask)\n",
    "    reference_pink = cv2.bitwise_and(reference_image_resized, reference_image_resized, mask=pink_mask)\n",
    "    growth_difference_pink = cv2.absdiff(growth_pink, reference_pink)\n",
    "\n",
    "    growth_white = cv2.bitwise_and(current_image_resized, current_image_resized, mask=white_mask)\n",
    "    reference_white = cv2.bitwise_and(reference_image_resized, reference_image_resized, mask=white_mask)\n",
    "    growth_difference_white = cv2.absdiff(growth_white, reference_white)\n",
    "\n",
    "    # Combine growth differences for pink and white areas\n",
    "    total_growth_difference = cv2.addWeighted(growth_difference_pink, 1, growth_difference_white, 1, 0)\n",
    "\n",
    "    # Convert to grayscale and apply threshold to highlight contours\n",
    "    total_growth_gray = cv2.cvtColor(total_growth_difference, cv2.COLOR_BGR2GRAY)\n",
    "    _, total_growth_thresh = cv2.threshold(total_growth_gray, 50, 255, cv2.THRESH_BINARY)\n",
    "\n",
    "    # Find contours of the detected changes\n",
    "    contours, _ = cv2.findContours(total_growth_thresh, cv2.RETR_EXTERNAL, cv2.CHAIN_APPROX_SIMPLE)\n",
    "    for contour in contours:\n",
    "        if cv2.contourArea(contour) > 50:  # Filter small noise by contour area\n",
    "            cv2.drawContours(current_image_resized, [contour], -1, (0, 255, 0), 2)  # Green color for growth\n",
    "\n",
    "    # Display the result for each coral image\n",
    "    window_name = f\"Coral Health Analysis - {os.path.basename(coral_path)}\"\n",
    "    cv2.imshow(window_name, current_image_resized)\n",
    "    cv2.waitKey(1000)  # Display each image for half a second\n",
    "\n",
    "    # Optionally save the result with contours for later analysis\n",
    "    output_path = f\"D:/Vortex/ROV/Phase 2/computer vision/Tasks2025/task 2/results/{os.path.basename(coral_path)}_analysis.png\"\n",
    "    cv2.imwrite(output_path, current_image_resized)\n",
    "    print(f\"Analysis saved to {output_path}\")\n",
    "\n",
    "cv2.destroyAllWindows()\n"
   ]
  }
 ],
 "metadata": {
  "kernelspec": {
   "display_name": "Python 3",
   "language": "python",
   "name": "python3"
  },
  "language_info": {
   "codemirror_mode": {
    "name": "ipython",
    "version": 3
   },
   "file_extension": ".py",
   "mimetype": "text/x-python",
   "name": "python",
   "nbconvert_exporter": "python",
   "pygments_lexer": "ipython3",
   "version": "3.12.3"
  }
 },
 "nbformat": 4,
 "nbformat_minor": 2
}
